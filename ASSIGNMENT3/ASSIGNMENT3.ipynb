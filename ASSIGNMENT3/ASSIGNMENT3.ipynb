{
 "cells": [
  {
   "cell_type": "code",
   "execution_count": 2,
   "metadata": {},
   "outputs": [
    {
     "name": "stdout",
     "output_type": "stream",
     "text": [
      "   Tid marital status  Taxable Income cheat\n",
      "0    1            yes          125000    no\n",
      "1    2             no          100000    no\n",
      "2    3             no           70000    no\n",
      "3    4            yes          120000    no\n",
      "4    5             no           95000   yes\n",
      "5    6             no           60000    no\n",
      "6    7            yes          220000    no\n",
      "7    8             no           85000   yes\n",
      "8    9             no           75000    no\n",
      "9   10             no           90000   yes\n"
     ]
    }
   ],
   "source": [
    "import pandas as pd\n",
    "\n",
    "mydataset={\n",
    "    \"Tid\":[1,2,3,4,5,6,7,8,9,10],\n",
    "    \"marital status\": [\"yes\",\"no\",\"no\",\"yes\",\"no\",\"no\",\"yes\",\"no\",\"no\",\"no\"],\n",
    "    \"Taxable Income\":[125000,100000,70000,120000,95000,60000,220000,85000,75000,90000],\n",
    "    \"cheat\":[\"no\",\"no\",\"no\",\"no\",\"yes\",\"no\",\"no\",\"yes\",\"no\",\"yes\"]\n",
    "}\n",
    "\n",
    "myvar=pd.DataFrame(mydataset)\n",
    "print(myvar)\n",
    "\n"
   ]
  },
  {
   "cell_type": "code",
   "execution_count": 11,
   "metadata": {},
   "outputs": [
    {
     "name": "stdout",
     "output_type": "stream",
     "text": [
      "   Tid marital status  Taxable Income cheat\n",
      "0    1            yes          125000    no\n",
      "4    5             no           95000   yes\n",
      "7    8             no           85000   yes\n"
     ]
    }
   ],
   "source": [
    "print(myvar.loc[[0,4,7]])\n"
   ]
  },
  {
   "cell_type": "code",
   "execution_count": 12,
   "metadata": {},
   "outputs": [
    {
     "name": "stdout",
     "output_type": "stream",
     "text": [
      "   Tid marital status  Taxable Income cheat\n",
      "3    4            yes          120000    no\n",
      "4    5             no           95000   yes\n",
      "5    6             no           60000    no\n",
      "6    7            yes          220000    no\n",
      "7    8             no           85000   yes\n"
     ]
    }
   ],
   "source": [
    "print(myvar.iloc[3:8])"
   ]
  },
  {
   "cell_type": "code",
   "execution_count": 13,
   "metadata": {},
   "outputs": [
    {
     "name": "stdout",
     "output_type": "stream",
     "text": [
      "   Taxable Income cheat\n",
      "4           95000   yes\n",
      "5           60000    no\n",
      "6          220000    no\n",
      "7           85000   yes\n",
      "8           75000    no\n"
     ]
    }
   ],
   "source": [
    "print(myvar.iloc[4:9 ,2:5])"
   ]
  },
  {
   "cell_type": "code",
   "execution_count": 14,
   "metadata": {},
   "outputs": [
    {
     "name": "stdout",
     "output_type": "stream",
     "text": [
      "  marital status  Taxable Income\n",
      "0            yes          125000\n",
      "1             no          100000\n",
      "2             no           70000\n",
      "3            yes          120000\n",
      "4             no           95000\n",
      "5             no           60000\n",
      "6            yes          220000\n",
      "7             no           85000\n",
      "8             no           75000\n",
      "9             no           90000\n"
     ]
    }
   ],
   "source": [
    "print(myvar.iloc[:,1:3])"
   ]
  },
  {
   "cell_type": "code",
   "execution_count": 2,
   "metadata": {},
   "outputs": [
    {
     "data": {
      "text/html": [
       "<div>\n",
       "<style scoped>\n",
       "    .dataframe tbody tr th:only-of-type {\n",
       "        vertical-align: middle;\n",
       "    }\n",
       "\n",
       "    .dataframe tbody tr th {\n",
       "        vertical-align: top;\n",
       "    }\n",
       "\n",
       "    .dataframe thead th {\n",
       "        text-align: right;\n",
       "    }\n",
       "</style>\n",
       "<table border=\"1\" class=\"dataframe\">\n",
       "  <thead>\n",
       "    <tr style=\"text-align: right;\">\n",
       "      <th></th>\n",
       "      <th>Id</th>\n",
       "      <th>SepalLengthCm</th>\n",
       "      <th>SepalWidthCm</th>\n",
       "      <th>PetalLengthCm</th>\n",
       "      <th>PetalWidthCm</th>\n",
       "      <th>Species</th>\n",
       "    </tr>\n",
       "  </thead>\n",
       "  <tbody>\n",
       "    <tr>\n",
       "      <th>0</th>\n",
       "      <td>1</td>\n",
       "      <td>5.1</td>\n",
       "      <td>3.5</td>\n",
       "      <td>1.4</td>\n",
       "      <td>0.2</td>\n",
       "      <td>Iris-setosa</td>\n",
       "    </tr>\n",
       "    <tr>\n",
       "      <th>1</th>\n",
       "      <td>2</td>\n",
       "      <td>4.9</td>\n",
       "      <td>3.0</td>\n",
       "      <td>1.4</td>\n",
       "      <td>0.2</td>\n",
       "      <td>Iris-setosa</td>\n",
       "    </tr>\n",
       "    <tr>\n",
       "      <th>2</th>\n",
       "      <td>3</td>\n",
       "      <td>4.7</td>\n",
       "      <td>3.2</td>\n",
       "      <td>1.3</td>\n",
       "      <td>0.2</td>\n",
       "      <td>Iris-setosa</td>\n",
       "    </tr>\n",
       "    <tr>\n",
       "      <th>3</th>\n",
       "      <td>4</td>\n",
       "      <td>4.6</td>\n",
       "      <td>3.1</td>\n",
       "      <td>1.5</td>\n",
       "      <td>0.2</td>\n",
       "      <td>Iris-setosa</td>\n",
       "    </tr>\n",
       "    <tr>\n",
       "      <th>4</th>\n",
       "      <td>5</td>\n",
       "      <td>5.0</td>\n",
       "      <td>3.6</td>\n",
       "      <td>1.4</td>\n",
       "      <td>0.2</td>\n",
       "      <td>Iris-setosa</td>\n",
       "    </tr>\n",
       "  </tbody>\n",
       "</table>\n",
       "</div>"
      ],
      "text/plain": [
       "   Id  SepalLengthCm  SepalWidthCm  PetalLengthCm  PetalWidthCm      Species\n",
       "0   1            5.1           3.5            1.4           0.2  Iris-setosa\n",
       "1   2            4.9           3.0            1.4           0.2  Iris-setosa\n",
       "2   3            4.7           3.2            1.3           0.2  Iris-setosa\n",
       "3   4            4.6           3.1            1.5           0.2  Iris-setosa\n",
       "4   5            5.0           3.6            1.4           0.2  Iris-setosa"
      ]
     },
     "execution_count": 2,
     "metadata": {},
     "output_type": "execute_result"
    }
   ],
   "source": [
    "import pandas as pd;\n",
    "df=pd.read_csv('Iris.csv')\n",
    "\n",
    "df.head()"
   ]
  },
  {
   "cell_type": "code",
   "execution_count": 3,
   "metadata": {},
   "outputs": [
    {
     "name": "stdout",
     "output_type": "stream",
     "text": [
      "      Id  SepalLengthCm  PetalLengthCm  PetalWidthCm         Species\n",
      "0      1            5.1            1.4           0.2     Iris-setosa\n",
      "1      2            4.9            1.4           0.2     Iris-setosa\n",
      "2      3            4.7            1.3           0.2     Iris-setosa\n",
      "4      5            5.0            1.4           0.2     Iris-setosa\n",
      "5      6            5.4            1.7           0.4     Iris-setosa\n",
      "..   ...            ...            ...           ...             ...\n",
      "145  146            6.7            5.2           2.3  Iris-virginica\n",
      "146  147            6.3            5.0           1.9  Iris-virginica\n",
      "147  148            6.5            5.2           2.0  Iris-virginica\n",
      "148  149            6.2            5.4           2.3  Iris-virginica\n",
      "149  150            5.9            5.1           1.8  Iris-virginica\n",
      "\n",
      "[149 rows x 5 columns]\n"
     ]
    }
   ],
   "source": [
    "df=df.drop(index=3)\n",
    "df=df.drop(columns=df.columns[2])\n",
    "print(df)"
   ]
  },
  {
   "cell_type": "code",
   "execution_count": 37,
   "metadata": {},
   "outputs": [],
   "source": [
    "de=pd.DataFrame([{\"empid\":101,\"name\":\"Alice\",\"department\":\"HR\",\"Age\":29,\"Salary\":50000,\"years_of_experience\":4,\"joining_date\":\"2020-03-15\",\"gender\":\"female\",\"bonus\":5000,\"rating\":4.5},\n",
    "                   {\"empid\":102,\"name\":\"Bob\",\"department\":\"IT\",\"Age\":34,\"Salary\":70000,\"years_of_experience\":8,\"joining_date\":\"2017-07-19\",\"gender\":\"male\",\"bonus\":7000,\"rating\":4.0},\n",
    "                   {\"empid\":103,\"name\":\"Charlie\",\"department\":\"IT\",\"Age\":41,\"Salary\":65000,\"years_of_experience\":10,\"joining_date\":\"2013-06-01\",\"gender\":\"male\",\"bonus\":6000,\"rating\":3.8},\n",
    "                   {\"empid\":104,\"name\":\"Diana\",\"department\":\"Marketing\",\"Age\":28,\"Salary\":55000,\"years_of_experience\":3,\"joining_date\":\"2022-02-10\",\"gender\":\"female\",\"bonus\":4500,\"rating\":4.7},\n",
    "                   {\"empid\":105,\"name\":\"Edward\",\"department\":\"Sales\",\"Age\":38,\"Salary\":60000,\"years_of_experience\":12,\"joining_date\":\"2010-11-25\",\"gender\":\"male\",\"bonus\":5000,\"rating\":3.5}])"
   ]
  },
  {
   "cell_type": "code",
   "execution_count": 17,
   "metadata": {},
   "outputs": [
    {
     "name": "stdout",
     "output_type": "stream",
     "text": [
      "   empid     name department Age  Salary  years_of_experience joining_date  \\\n",
      "0    101    Alice         HR  29   50000                    4   2020-03-15   \n",
      "1    102      Bob         IT  34   70000                    8   2017-07-19   \n",
      "2    103  Charlie         IT  41   65000                   10   2013-06-01   \n",
      "3    104    Diana  Marketing  28   55000                    3   2022-02-10   \n",
      "4    105   Edward      Sales  38   60000                   12   2010-11-25   \n",
      "\n",
      "   gender bonus rating  \n",
      "0  female  5000    4.5  \n",
      "1    male  7000    4.0  \n",
      "2    male  6000    3.8  \n",
      "3  female  4500    4.7  \n",
      "4    male  5000    3.5  \n"
     ]
    }
   ],
   "source": [
    "print(de)"
   ]
  },
  {
   "cell_type": "code",
   "execution_count": 19,
   "metadata": {},
   "outputs": [
    {
     "name": "stdout",
     "output_type": "stream",
     "text": [
      "(5, 10)\n"
     ]
    }
   ],
   "source": [
    "print(de.shape)"
   ]
  },
  {
   "cell_type": "code",
   "execution_count": 38,
   "metadata": {},
   "outputs": [
    {
     "name": "stdout",
     "output_type": "stream",
     "text": [
      "<class 'pandas.core.frame.DataFrame'>\n",
      "RangeIndex: 5 entries, 0 to 4\n",
      "Data columns (total 10 columns):\n",
      " #   Column               Non-Null Count  Dtype  \n",
      "---  ------               --------------  -----  \n",
      " 0   empid                5 non-null      int64  \n",
      " 1   name                 5 non-null      object \n",
      " 2   department           5 non-null      object \n",
      " 3   Age                  5 non-null      int64  \n",
      " 4   Salary               5 non-null      int64  \n",
      " 5   years_of_experience  5 non-null      int64  \n",
      " 6   joining_date         5 non-null      object \n",
      " 7   gender               5 non-null      object \n",
      " 8   bonus                5 non-null      int64  \n",
      " 9   rating               5 non-null      float64\n",
      "dtypes: float64(1), int64(5), object(4)\n",
      "memory usage: 532.0+ bytes\n",
      "None\n"
     ]
    }
   ],
   "source": [
    "print(de.info())"
   ]
  },
  {
   "cell_type": "code",
   "execution_count": 39,
   "metadata": {},
   "outputs": [
    {
     "name": "stdout",
     "output_type": "stream",
     "text": [
      "            empid        Age       Salary  years_of_experience   bonus  \\\n",
      "count    5.000000   5.000000      5.00000             5.000000     5.0   \n",
      "mean   103.000000  34.000000  60000.00000             7.400000  5500.0   \n",
      "std      1.581139   5.612486   7905.69415             3.847077  1000.0   \n",
      "min    101.000000  28.000000  50000.00000             3.000000  4500.0   \n",
      "25%    102.000000  29.000000  55000.00000             4.000000  5000.0   \n",
      "50%    103.000000  34.000000  60000.00000             8.000000  5000.0   \n",
      "75%    104.000000  38.000000  65000.00000            10.000000  6000.0   \n",
      "max    105.000000  41.000000  70000.00000            12.000000  7000.0   \n",
      "\n",
      "         rating  \n",
      "count  5.000000  \n",
      "mean   4.100000  \n",
      "std    0.494975  \n",
      "min    3.500000  \n",
      "25%    3.800000  \n",
      "50%    4.000000  \n",
      "75%    4.500000  \n",
      "max    4.700000  \n"
     ]
    }
   ],
   "source": [
    "print(de.describe())"
   ]
  },
  {
   "cell_type": "code",
   "execution_count": 23,
   "metadata": {},
   "outputs": [
    {
     "name": "stdout",
     "output_type": "stream",
     "text": [
      "   empid     name department Age  Salary  years_of_experience joining_date  \\\n",
      "0    101    Alice         HR  29   50000                    4   2020-03-15   \n",
      "1    102      Bob         IT  34   70000                    8   2017-07-19   \n",
      "2    103  Charlie         IT  41   65000                   10   2013-06-01   \n",
      "3    104    Diana  Marketing  28   55000                    3   2022-02-10   \n",
      "4    105   Edward      Sales  38   60000                   12   2010-11-25   \n",
      "\n",
      "   gender bonus rating  \n",
      "0  female  5000    4.5  \n",
      "1    male  7000    4.0  \n",
      "2    male  6000    3.8  \n",
      "3  female  4500    4.7  \n",
      "4    male  5000    3.5  \n"
     ]
    }
   ],
   "source": [
    "print(de.head())"
   ]
  },
  {
   "cell_type": "code",
   "execution_count": 24,
   "metadata": {},
   "outputs": [
    {
     "name": "stdout",
     "output_type": "stream",
     "text": [
      "   empid     name department Age  Salary  years_of_experience joining_date  \\\n",
      "2    103  Charlie         IT  41   65000                   10   2013-06-01   \n",
      "3    104    Diana  Marketing  28   55000                    3   2022-02-10   \n",
      "4    105   Edward      Sales  38   60000                   12   2010-11-25   \n",
      "\n",
      "   gender bonus rating  \n",
      "2    male  6000    3.8  \n",
      "3  female  4500    4.7  \n",
      "4    male  5000    3.5  \n"
     ]
    }
   ],
   "source": [
    "print(de.tail(3))"
   ]
  },
  {
   "cell_type": "code",
   "execution_count": 26,
   "metadata": {},
   "outputs": [
    {
     "name": "stdout",
     "output_type": "stream",
     "text": [
      "the avg salary is 60000.0\n"
     ]
    }
   ],
   "source": [
    "avgsal=de['Salary'].mean()\n",
    "print(f\"the avg salary is {avgsal}\")"
   ]
  },
  {
   "cell_type": "code",
   "execution_count": 40,
   "metadata": {},
   "outputs": [
    {
     "name": "stdout",
     "output_type": "stream",
     "text": [
      "27500\n"
     ]
    }
   ],
   "source": [
    "totalsum=de['bonus'].sum()\n",
    "print(totalsum)"
   ]
  },
  {
   "cell_type": "code",
   "execution_count": 41,
   "metadata": {},
   "outputs": [
    {
     "name": "stdout",
     "output_type": "stream",
     "text": [
      "youngest employee is 28\n"
     ]
    }
   ],
   "source": [
    "youngest=de['Age'].min()\n",
    "print(f\"youngest employee is {youngest}\")"
   ]
  },
  {
   "cell_type": "code",
   "execution_count": 42,
   "metadata": {},
   "outputs": [
    {
     "name": "stdout",
     "output_type": "stream",
     "text": [
      "highest rating is 4.7\n"
     ]
    }
   ],
   "source": [
    "highest_rating=de['rating'].max()\n",
    "print(f\"highest rating is {highest_rating}\")"
   ]
  },
  {
   "cell_type": "code",
   "execution_count": 43,
   "metadata": {},
   "outputs": [
    {
     "name": "stdout",
     "output_type": "stream",
     "text": [
      "   empid     name department  Age  Salary  years_of_experience joining_date  \\\n",
      "1    102      Bob         IT   34   70000                    8   2017-07-19   \n",
      "2    103  Charlie         IT   41   65000                   10   2013-06-01   \n",
      "4    105   Edward      Sales   38   60000                   12   2010-11-25   \n",
      "3    104    Diana  Marketing   28   55000                    3   2022-02-10   \n",
      "0    101    Alice         HR   29   50000                    4   2020-03-15   \n",
      "\n",
      "   gender  bonus  rating  \n",
      "1    male   7000     4.0  \n",
      "2    male   6000     3.8  \n",
      "4    male   5000     3.5  \n",
      "3  female   4500     4.7  \n",
      "0  female   5000     4.5  \n"
     ]
    }
   ],
   "source": [
    "sort_dataframe=de.sort_values(by='Salary',ascending=False)\n",
    "print(sort_dataframe)"
   ]
  },
  {
   "cell_type": "code",
   "execution_count": 50,
   "metadata": {},
   "outputs": [
    {
     "name": "stdout",
     "output_type": "stream",
     "text": [
      "excellent\n",
      "good\n",
      "average\n",
      "excellent\n",
      "average\n"
     ]
    }
   ],
   "source": [
    "def performance(rating):\n",
    "    if rating>=4.5:\n",
    "        print(\"excellent\")\n",
    "    elif 4.0<=rating<=4.5:\n",
    "        print(\"good\")\n",
    "    else:\n",
    "        print(\"average\")\n",
    "de['performance']=de['rating'].apply(performance)\n"
   ]
  },
  {
   "cell_type": "code",
   "execution_count": 51,
   "metadata": {},
   "outputs": [
    {
     "name": "stdout",
     "output_type": "stream",
     "text": [
      "   empid   name  department    Age  Salary  years_of_experience  joining_date  \\\n",
      "0  False  False       False  False   False                False         False   \n",
      "1  False  False       False  False   False                False         False   \n",
      "2  False  False       False  False   False                False         False   \n",
      "3  False  False       False  False   False                False         False   \n",
      "4  False  False       False  False   False                False         False   \n",
      "\n",
      "   gender  bonus  rating  performance_ranting  performance  \n",
      "0   False  False   False                 True         True  \n",
      "1   False  False   False                 True         True  \n",
      "2   False  False   False                 True         True  \n",
      "3   False  False   False                 True         True  \n",
      "4   False  False   False                 True         True  \n"
     ]
    }
   ],
   "source": [
    "missingvalues=de.isnull()\n",
    "print(missingvalues)"
   ]
  },
  {
   "cell_type": "code",
   "execution_count": 52,
   "metadata": {},
   "outputs": [
    {
     "name": "stdout",
     "output_type": "stream",
     "text": [
      "    ID     name department  Age  Salary  years_of_experience joining_date  \\\n",
      "0  101    Alice         HR   29   50000                    4   2020-03-15   \n",
      "1  102      Bob         IT   34   70000                    8   2017-07-19   \n",
      "2  103  Charlie         IT   41   65000                   10   2013-06-01   \n",
      "3  104    Diana  Marketing   28   55000                    3   2022-02-10   \n",
      "4  105   Edward      Sales   38   60000                   12   2010-11-25   \n",
      "\n",
      "   gender  bonus  rating performance_ranting performance  \n",
      "0  female   5000     4.5                None        None  \n",
      "1    male   7000     4.0                None        None  \n",
      "2    male   6000     3.8                None        None  \n",
      "3  female   4500     4.7                None        None  \n",
      "4    male   5000     3.5                None        None  \n"
     ]
    }
   ],
   "source": [
    "de=de.rename(columns={'empid':'ID'})\n",
    "print(de)"
   ]
  },
  {
   "cell_type": "code",
   "execution_count": null,
   "metadata": {},
   "outputs": [
    {
     "name": "stdout",
     "output_type": "stream",
     "text": [
      "    ID     name department  Age  Salary  years_of_experience joining_date  \\\n",
      "1  102      Bob         IT   34   70000                    8   2017-07-19   \n",
      "2  103  Charlie         IT   41   65000                   10   2013-06-01   \n",
      "\n",
      "  gender  bonus  rating performance_ranting performance     Tax  \n",
      "1   male   7000     4.0                None        None  7000.0  \n",
      "2   male   6000     3.8                None        None  6500.0  \n"
     ]
    }
   ],
   "source": [
    "\n",
    "filtered= de[(de[\"years_of_experience\"] > 5) & (de[\"department\"]==\"IT\")]\n",
    "print(filtered)"
   ]
  },
  {
   "cell_type": "code",
   "execution_count": 54,
   "metadata": {},
   "outputs": [
    {
     "name": "stdout",
     "output_type": "stream",
     "text": [
      "    ID     name department  Age  Salary  years_of_experience joining_date  \\\n",
      "0  101    Alice         HR   29   50000                    4   2020-03-15   \n",
      "1  102      Bob         IT   34   70000                    8   2017-07-19   \n",
      "2  103  Charlie         IT   41   65000                   10   2013-06-01   \n",
      "3  104    Diana  Marketing   28   55000                    3   2022-02-10   \n",
      "4  105   Edward      Sales   38   60000                   12   2010-11-25   \n",
      "\n",
      "   gender  bonus  rating performance_ranting performance     Tax  \n",
      "0  female   5000     4.5                None        None  5000.0  \n",
      "1    male   7000     4.0                None        None  7000.0  \n",
      "2    male   6000     3.8                None        None  6500.0  \n",
      "3  female   4500     4.7                None        None  5500.0  \n",
      "4    male   5000     3.5                None        None  6000.0  \n"
     ]
    }
   ],
   "source": [
    "de['Tax']=de['Salary']*0.10\n",
    "print(de)"
   ]
  },
  {
   "cell_type": "code",
   "execution_count": 56,
   "metadata": {},
   "outputs": [
    {
     "name": "stdout",
     "output_type": "stream",
     "text": [
      "Modified dataset saved to 'NewEmployees.csv'\n"
     ]
    }
   ],
   "source": [
    "de.to_csv(\"NewEmployees.csv\", index=False)\n",
    "print(\"Modified dataset saved to 'NewEmployees.csv'\")"
   ]
  }
 ],
 "metadata": {
  "kernelspec": {
   "display_name": "Python 3",
   "language": "python",
   "name": "python3"
  },
  "language_info": {
   "codemirror_mode": {
    "name": "ipython",
    "version": 3
   },
   "file_extension": ".py",
   "mimetype": "text/x-python",
   "name": "python",
   "nbconvert_exporter": "python",
   "pygments_lexer": "ipython3",
   "version": "3.13.1"
  }
 },
 "nbformat": 4,
 "nbformat_minor": 2
}
