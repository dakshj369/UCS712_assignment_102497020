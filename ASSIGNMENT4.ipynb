{
 "cells": [
  {
   "cell_type": "code",
   "execution_count": 2,
   "metadata": {},
   "outputs": [
    {
     "name": "stdout",
     "output_type": "stream",
     "text": [
      "[3 4 5 6 7]\n",
      "[ 3  6  9 12 15]\n",
      "[0.5 1.  1.5 2.  2.5]\n"
     ]
    }
   ],
   "source": [
    "# Q.1 Write a program to create a NumPy 1D-array with 5 elements and perform basic operations like:\n",
    "\n",
    "import numpy as np;\n",
    "\n",
    "arr=np.array([1,2,3,4,5])\n",
    "\n",
    "# a) Addition of 2 in all the element\n",
    "print(arr+2)\n",
    "\n",
    "# b) Multiply 3 with all the elements\n",
    "print(arr*3)\n",
    "\n",
    "# c) Divide every element by 2\n",
    "print(arr/2)"
   ]
  },
  {
   "cell_type": "code",
   "execution_count": 8,
   "metadata": {},
   "outputs": [
    {
     "name": "stdout",
     "output_type": "stream",
     "text": [
      "[5 4 6 3 2 1]\n",
      "1\n",
      "[0 5 7 8 9]\n",
      "1\n",
      "[0 1 2]\n"
     ]
    }
   ],
   "source": [
    "# Q.2 Questions on Basic NumPy Array:\n",
    "# a)\tReverse the NumPy array: arr = np.array([1, 2, 3, 6, 4, 5])\n",
    "\n",
    "arr=np.array([1,2,3,6,4,5])\n",
    "\n",
    "reversearr=arr[::-1]\n",
    "print(reversearr)\n",
    "\n",
    "# b)\tFind the most frequent value and their indice(s) in the following arrays:\n",
    "# i. x = np.array([1,2,3,4,5,1,2,1,1,1]) ii. y = np.array([1, 1, 1, 2, 3, 4, 2, 4, 3, 3, ])\n",
    "\n",
    "x = np.array([1,2,3,4,5,1,2,1,1,1])\n",
    "mfreqx= np.bincount(x)\n",
    "print(mfreqx.argmax())\n",
    "indicesx=np.where(x== mfreqx.argmax())\n",
    "print(indicesx[0])\n",
    "\n",
    "y = np.array([1,1,1,2,3,4,2,4,3,3])\n",
    "mfreqy= np.bincount(y)\n",
    "print(mfreqy.argmax())\n",
    "indicesy=np.where(y== mfreqy.argmax())\n",
    "print(indicesy[0])\n"
   ]
  },
  {
   "cell_type": "code",
   "execution_count": 9,
   "metadata": {},
   "outputs": [
    {
     "name": "stdout",
     "output_type": "stream",
     "text": [
      "20\n",
      "70\n"
     ]
    }
   ],
   "source": [
    "# Q.3 For the given 2-D array arr=np.array([10, 20, 30], [40, 50, 60], [70, 80, 90]), access elements using row and column indices as follows:\n",
    "# a)\tAccess 1st row, 2nd column\n",
    "# b)\tAccess 3rd row, 1st column\n",
    "\n",
    "arr=np.array([[10,20,30],[40,50,60],[70,80,90]])\n",
    "\n",
    "print(arr[0,1])\n",
    "print(arr[2,0])"
   ]
  },
  {
   "cell_type": "code",
   "execution_count": null,
   "metadata": {},
   "outputs": [
    {
     "name": "stdout",
     "output_type": "stream",
     "text": [
      "[ 10.    13.75  17.5   21.25  25.    28.75  32.5   36.25  40.    43.75\n",
      "  47.5   51.25  55.    58.75  62.5   66.25  70.    73.75  77.5   81.25\n",
      "  85.    88.75  92.5   96.25 100.  ]\n",
      "(25,)\n",
      "25\n",
      "float64\n",
      "200\n",
      "[[ 10.  ]\n",
      " [ 13.75]\n",
      " [ 17.5 ]\n",
      " [ 21.25]\n",
      " [ 25.  ]\n",
      " [ 28.75]\n",
      " [ 32.5 ]\n",
      " [ 36.25]\n",
      " [ 40.  ]\n",
      " [ 43.75]\n",
      " [ 47.5 ]\n",
      " [ 51.25]\n",
      " [ 55.  ]\n",
      " [ 58.75]\n",
      " [ 62.5 ]\n",
      " [ 66.25]\n",
      " [ 70.  ]\n",
      " [ 73.75]\n",
      " [ 77.5 ]\n",
      " [ 81.25]\n",
      " [ 85.  ]\n",
      " [ 88.75]\n",
      " [ 92.5 ]\n",
      " [ 96.25]\n",
      " [100.  ]]\n",
      "[ 10.    13.75  17.5   21.25  25.    28.75  32.5   36.25  40.    43.75\n",
      "  47.5   51.25  55.    58.75  62.5   66.25  70.    73.75  77.5   81.25\n",
      "  85.    88.75  92.5   96.25 100.  ]\n"
     ]
    }
   ],
   "source": [
    "# Q.4 Write program to create an 1-D NumPy array named <> with evenly spaced 25 numbers from 10 to 100 using linspace().\n",
    "# Print the dimensions of the array, shape, total elements, the data type of each element and total number of bytes consumed by the array.\n",
    "# Find the transpose of this array using reshape() attribute.\n",
    "# Can we do the same with T attribute?\n",
    "\n",
    "DakshJain=np.linspace(10,100,num=25)\n",
    "print(DakshJain)\n",
    "\n",
    "print(DakshJain.shape)\n",
    "\n",
    "print(DakshJain.size)\n",
    "\n",
    "print(DakshJain.dtype)\n",
    "\n",
    "print(DakshJain.nbytes)\n",
    "\n",
    "print(DakshJain.reshape(DakshJain.size,1))\n",
    "\n",
    "arrtranspose= DakshJain.T\n",
    "print(arrtranspose)\n",
    "\n",
    "\n",
    "\n"
   ]
  },
  {
   "cell_type": "code",
   "execution_count": 17,
   "metadata": {},
   "outputs": [
    {
     "name": "stdout",
     "output_type": "stream",
     "text": [
      "42.5\n",
      "37.5\n",
      "90\n",
      "10\n",
      "[10 15 20 30 35 40 50 60 70 90]\n",
      "[[10 20 30]\n",
      " [40 50 60]\n",
      " [70 70 90]\n",
      " [15 20 35]]\n",
      "[[10 20 30]\n",
      " [40 50 60]]\n"
     ]
    }
   ],
   "source": [
    "# Q5. Create a 2-D Array of three rows and four columns, named ucs420_> with following values – 10, 20, 30, 40, 50, 60, 70, 80, 90, 15, 20, 35.\n",
    "# Compute the mean, median, max, min, unique elements.\n",
    "# Reshape the array to four rows and three columns and name it as reshaped_ ucs420_>.\n",
    "# Resize the array to two rows and three columns and name it as resized_ ucs420_>.\n",
    "\n",
    "\n",
    "matrix=np.array([10,20,30,40,50,60,70,70,90,15,20,35])\n",
    "\n",
    "ucs420_dakshjain= matrix.reshape(3,4)\n",
    "Elmean=np.mean(ucs420_dakshjain)\n",
    "print(Elmean)\n",
    "\n",
    "Elmedian=np.median(ucs420_dakshjain)\n",
    "print(Elmedian)\n",
    "\n",
    "maximum=np.max(ucs420_dakshjain)\n",
    "print(maximum)\n",
    "\n",
    "minimum=np.min(ucs420_dakshjain)\n",
    "print(minimum)\n",
    "\n",
    "uniqueel=np.unique(ucs420_dakshjain)\n",
    "print(uniqueel)\n",
    "\n",
    "reshaped_ucs420_dakshjain=ucs420_dakshjain.reshape(4,3)\n",
    "print(reshaped_ucs420_dakshjain)\n",
    "\n",
    "resized_ucs420_dakshjain=np.resize(ucs420_dakshjain,(2,3))\n",
    "print(resized_ucs420_dakshjain)"
   ]
  }
 ],
 "metadata": {
  "kernelspec": {
   "display_name": "Python 3",
   "language": "python",
   "name": "python3"
  },
  "language_info": {
   "codemirror_mode": {
    "name": "ipython",
    "version": 3
   },
   "file_extension": ".py",
   "mimetype": "text/x-python",
   "name": "python",
   "nbconvert_exporter": "python",
   "pygments_lexer": "ipython3",
   "version": "3.13.1"
  }
 },
 "nbformat": 4,
 "nbformat_minor": 2
}
