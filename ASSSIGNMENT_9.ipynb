{
  "cells": [
    {
      "cell_type": "code",
      "execution_count": 1,
      "metadata": {
        "id": "5mATOQZV_bPf"
      },
      "outputs": [
        {
          "ename": "ModuleNotFoundError",
          "evalue": "No module named 'nltk'",
          "output_type": "error",
          "traceback": [
            "\u001b[1;31m---------------------------------------------------------------------------\u001b[0m",
            "\u001b[1;31mModuleNotFoundError\u001b[0m                       Traceback (most recent call last)",
            "Cell \u001b[1;32mIn[1], line 1\u001b[0m\n\u001b[1;32m----> 1\u001b[0m \u001b[38;5;28;01mimport\u001b[39;00m\u001b[38;5;250m \u001b[39m\u001b[38;5;21;01mnltk\u001b[39;00m\n\u001b[0;32m      2\u001b[0m \u001b[38;5;28;01mfrom\u001b[39;00m\u001b[38;5;250m \u001b[39m\u001b[38;5;21;01mnltk\u001b[39;00m\u001b[38;5;21;01m.\u001b[39;00m\u001b[38;5;21;01mcorpus\u001b[39;00m\u001b[38;5;250m \u001b[39m\u001b[38;5;28;01mimport\u001b[39;00m stopwords\n\u001b[0;32m      3\u001b[0m \u001b[38;5;28;01mfrom\u001b[39;00m\u001b[38;5;250m \u001b[39m\u001b[38;5;21;01mnltk\u001b[39;00m\u001b[38;5;21;01m.\u001b[39;00m\u001b[38;5;21;01mtokenize\u001b[39;00m\u001b[38;5;250m \u001b[39m\u001b[38;5;28;01mimport\u001b[39;00m word_tokenize, sent_tokenize\n",
            "\u001b[1;31mModuleNotFoundError\u001b[0m: No module named 'nltk'"
          ]
        }
      ],
      "source": [
        "import nltk\n",
        "from nltk.corpus import stopwords\n",
        "from nltk.tokenize import word_tokenize, sent_tokenize\n",
        "from nltk.probability import FreqDist\n",
        "import string"
      ]
    },
    {
      "cell_type": "code",
      "execution_count": 2,
      "metadata": {
        "colab": {
          "base_uri": "https://localhost:8080/"
        },
        "id": "LzxmpuzgZVzb",
        "outputId": "b6a39d66-d7f0-45e2-adb2-6281540d4763"
      },
      "outputs": [
        {
          "name": "stderr",
          "output_type": "stream",
          "text": [
            "[nltk_data] Downloading package punkt to /root/nltk_data...\n",
            "[nltk_data]   Unzipping tokenizers/punkt.zip.\n"
          ]
        },
        {
          "data": {
            "text/plain": [
              "True"
            ]
          },
          "execution_count": 2,
          "metadata": {},
          "output_type": "execute_result"
        }
      ],
      "source": [
        "nltk.download('punkt')"
      ]
    },
    {
      "cell_type": "code",
      "execution_count": 9,
      "metadata": {
        "colab": {
          "base_uri": "https://localhost:8080/"
        },
        "id": "ZjnE4nmMab7I",
        "outputId": "9e8efb21-1ae2-408a-c369-656fb8941562"
      },
      "outputs": [
        {
          "name": "stderr",
          "output_type": "stream",
          "text": [
            "[nltk_data] Downloading package punkt_tab to /root/nltk_data...\n",
            "[nltk_data]   Unzipping tokenizers/punkt_tab.zip.\n"
          ]
        },
        {
          "data": {
            "text/plain": [
              "True"
            ]
          },
          "execution_count": 9,
          "metadata": {},
          "output_type": "execute_result"
        }
      ],
      "source": [
        "nltk.download('punkt_tab')"
      ]
    },
    {
      "cell_type": "code",
      "execution_count": 3,
      "metadata": {
        "colab": {
          "base_uri": "https://localhost:8080/"
        },
        "id": "XPofjnhTZgZw",
        "outputId": "fdb76ec1-70ca-4995-cc36-e2fefba148a1"
      },
      "outputs": [
        {
          "name": "stderr",
          "output_type": "stream",
          "text": [
            "[nltk_data] Downloading package stopwords to /root/nltk_data...\n",
            "[nltk_data]   Unzipping corpora/stopwords.zip.\n"
          ]
        },
        {
          "data": {
            "text/plain": [
              "True"
            ]
          },
          "execution_count": 3,
          "metadata": {},
          "output_type": "execute_result"
        }
      ],
      "source": [
        "nltk.download('stopwords')"
      ]
    },
    {
      "cell_type": "code",
      "execution_count": null,
      "metadata": {
        "id": "PfiXhmFrZjNi"
      },
      "outputs": [],
      "source": [
        "paragraph = \"\"\"Artificial Intelligence (AI) and Machine Learning (ML) are transformative technologies at the core of modern innovation. AI refers to the simulation of human intelligence in machines that are programmed to think, learn, and make decisions, while ML is a subset of AI that enables systems to automatically learn from data and improve their performance without being explicitly programmed. Together, AI and ML power a wide range of applications—from personalized recommendations and virtual assistants to medical diagnostics and autonomous vehicles. These technologies are driving efficiencies, enhancing decision-making, and opening up new possibilities across industries, although they also raise important considerations around ethics, fairness, and accountability.\"\"\""
      ]
    },
    {
      "cell_type": "code",
      "execution_count": 5,
      "metadata": {
        "id": "-JEFKpIPZ0La"
      },
      "outputs": [],
      "source": [
        "text_clean = paragraph.lower().translate(str.maketrans('','',string.punctuation))"
      ]
    },
    {
      "cell_type": "code",
      "execution_count": 12,
      "metadata": {
        "id": "Uie27a3NZ-BF"
      },
      "outputs": [],
      "source": [
        "word_tokens = word_tokenize(text_clean)\n",
        "sentence_tokens = sent_tokenize(paragraph)"
      ]
    },
    {
      "cell_type": "code",
      "execution_count": 13,
      "metadata": {
        "id": "7yXzPfs_aLO8"
      },
      "outputs": [],
      "source": [
        "stop_words = set(stopwords.words('english'))\n",
        "filtered_words = [word for word in word_tokens if word not in stop_words]"
      ]
    },
    {
      "cell_type": "code",
      "execution_count": 14,
      "metadata": {
        "colab": {
          "base_uri": "https://localhost:8080/",
          "height": 582
        },
        "id": "ttQqD8jyar4H",
        "outputId": "6f69e8af-470e-4139-f872-ae48132c8345"
      },
      "outputs": [
        {
          "data": {
            "text/plain": [
              "<Axes: title={'center': 'Word Frequency Distribution (Excluding Stopwords)'}, xlabel='Samples', ylabel='Counts'>"
            ]
          },
          "execution_count": 14,
          "metadata": {},
          "output_type": "execute_result"
        },
        {
          "data": {
            "image/png": "[encoded data removed]",
            "text/plain": [
              "<Figure size 640x480 with 1 Axes>"
            ]
          },
          "metadata": {},
          "output_type": "display_data"
        }
      ],
      "source": [
        "fdist = FreqDist(filtered_words)\n",
        "fdist.plot(title=\"Word Frequency Distribution (Excluding Stopwords)\")"
      ]
    },
    {
      "cell_type": "code",
      "execution_count": 16,
      "metadata": {
        "id": "Cn61H2cDavxK"
      },
      "outputs": [],
      "source": [
        "from nltk.stem import PorterStemmer, LancasterStemmer, WordNetLemmatizer"
      ]
    },
    {
      "cell_type": "code",
      "execution_count": 19,
      "metadata": {
        "id": "I3vM2FNnbcW8"
      },
      "outputs": [],
      "source": [
        "from nltk.corpus import wordnet\n",
        "import pandas as pd"
      ]
    },
    {
      "cell_type": "code",
      "execution_count": 25,
      "metadata": {
        "id": "VNxid9o0br6q"
      },
      "outputs": [],
      "source": [
        "nltk.download('wordnet')\n",
        "nltk.download('omw-1.4')"
      ]
    },
    {
      "cell_type": "code",
      "execution_count": 17,
      "metadata": {
        "id": "DuWVWVT2bAwL"
      },
      "outputs": [],
      "source": [
        "porter = PorterStemmer()\n",
        "lancaster = LancasterStemmer()\n",
        "lemmatizer = WordNetLemmatizer()"
      ]
    },
    {
      "cell_type": "code",
      "execution_count": 23,
      "metadata": {
        "id": "NGaId3aYbT6s"
      },
      "outputs": [],
      "source": [
        "porter_stems = [porter.stem(word) for word in filtered_words]\n",
        "lancaster_stems = [lancaster.stem(word) for word in filtered_words]\n",
        "lemmas = [lemmatizer.lemmatize(word) for word in filtered_words]"
      ]
    },
    {
      "cell_type": "code",
      "execution_count": 26,
      "metadata": {
        "colab": {
          "base_uri": "https://localhost:8080/",
          "height": 1000
        },
        "id": "wso-O8oCbY3v",
        "outputId": "c40f27c2-390f-48b8-ebd6-912265b7bf5b"
      },
      "outputs": [
        {
          "data": {
            "application/vnd.google.colaboratory.intrinsic+json": {
              "summary": "{\n  \"name\": \"df\",\n  \"rows\": 49,\n  \"fields\": [\n    {\n      \"column\": \"Original\",\n      \"properties\": {\n        \"dtype\": \"string\",\n        \"num_unique_values\": 43,\n        \"samples\": [\n          \"intent\",\n          \"like\",\n          \"emails\"\n        ],\n        \"semantic_type\": \"\",\n        \"description\": \"\"\n      }\n    },\n    {\n      \"column\": \"PorterStemmer\",\n      \"properties\": {\n        \"dtype\": \"string\",\n        \"num_unique_values\": 41,\n        \"samples\": [\n          \"like\",\n          \"human\",\n          \"comput\"\n        ],\n        \"semantic_type\": \"\",\n        \"description\": \"\"\n      }\n    },\n    {\n      \"column\": \"LancasterStemmer\",\n      \"properties\": {\n        \"dtype\": \"string\",\n        \"num_unique_values\": 41,\n        \"samples\": [\n          \"lik\",\n          \"hum\",\n          \"comput\"\n        ],\n        \"semantic_type\": \"\",\n        \"description\": \"\"\n      }\n    },\n    {\n      \"column\": \"Lemmatizer\",\n      \"properties\": {\n        \"dtype\": \"string\",\n        \"num_unique_values\": 42,\n        \"samples\": [\n          \"email\",\n          \"human\",\n          \"computer\"\n        ],\n        \"semantic_type\": \"\",\n        \"description\": \"\"\n      }\n    }\n  ]\n}",
              "type": "dataframe",
              "variable_name": "df"
            },
            "text/html": [
              "\n",
              "  <div id=\"df-922e466f-f7ae-4e61-a886-1c2337a1d679\" class=\"colab-df-container\">\n",
              "    <div>\n",
              "<style scoped>\n",
              "    .dataframe tbody tr th:only-of-type {\n",
              "        vertical-align: middle;\n",
              "    }\n",
              "\n",
              "    .dataframe tbody tr th {\n",
              "        vertical-align: top;\n",
              "    }\n",
              "\n",
              "    .dataframe thead th {\n",
              "        text-align: right;\n",
              "    }\n",
              "</style>\n",
              "<table border=\"1\" class=\"dataframe\">\n",
              "  <thead>\n",
              "    <tr style=\"text-align: right;\">\n",
              "      <th></th>\n",
              "      <th>Original</th>\n",
              "      <th>PorterStemmer</th>\n",
              "      <th>LancasterStemmer</th>\n",
              "      <th>Lemmatizer</th>\n",
              "    </tr>\n",
              "  </thead>\n",
              "  <tbody>\n",
              "    <tr>\n",
              "      <th>0</th>\n",
              "      <td>natural</td>\n",
              "      <td>natur</td>\n",
              "      <td>nat</td>\n",
              "      <td>natural</td>\n",
              "    </tr>\n",
              "    <tr>\n",
              "      <th>1</th>\n",
              "      <td>language</td>\n",
              "      <td>languag</td>\n",
              "      <td>langu</td>\n",
              "      <td>language</td>\n",
              "    </tr>\n",
              "    <tr>\n",
              "      <th>2</th>\n",
              "      <td>processing</td>\n",
              "      <td>process</td>\n",
              "      <td>process</td>\n",
              "      <td>processing</td>\n",
              "    </tr>\n",
              "    <tr>\n",
              "      <th>3</th>\n",
              "      <td>nlp</td>\n",
              "      <td>nlp</td>\n",
              "      <td>nlp</td>\n",
              "      <td>nlp</td>\n",
              "    </tr>\n",
              "    <tr>\n",
              "      <th>4</th>\n",
              "      <td>machine</td>\n",
              "      <td>machin</td>\n",
              "      <td>machin</td>\n",
              "      <td>machine</td>\n",
              "    </tr>\n",
              "    <tr>\n",
              "      <th>5</th>\n",
              "      <td>learning</td>\n",
              "      <td>learn</td>\n",
              "      <td>learn</td>\n",
              "      <td>learning</td>\n",
              "    </tr>\n",
              "    <tr>\n",
              "      <th>6</th>\n",
              "      <td>technology</td>\n",
              "      <td>technolog</td>\n",
              "      <td>technolog</td>\n",
              "      <td>technology</td>\n",
              "    </tr>\n",
              "    <tr>\n",
              "      <th>7</th>\n",
              "      <td>gives</td>\n",
              "      <td>give</td>\n",
              "      <td>giv</td>\n",
              "      <td>give</td>\n",
              "    </tr>\n",
              "    <tr>\n",
              "      <th>8</th>\n",
              "      <td>computers</td>\n",
              "      <td>comput</td>\n",
              "      <td>comput</td>\n",
              "      <td>computer</td>\n",
              "    </tr>\n",
              "    <tr>\n",
              "      <th>9</th>\n",
              "      <td>ability</td>\n",
              "      <td>abil</td>\n",
              "      <td>abl</td>\n",
              "      <td>ability</td>\n",
              "    </tr>\n",
              "    <tr>\n",
              "      <th>10</th>\n",
              "      <td>interpret</td>\n",
              "      <td>interpret</td>\n",
              "      <td>interpret</td>\n",
              "      <td>interpret</td>\n",
              "    </tr>\n",
              "    <tr>\n",
              "      <th>11</th>\n",
              "      <td>manipulate</td>\n",
              "      <td>manipul</td>\n",
              "      <td>manip</td>\n",
              "      <td>manipulate</td>\n",
              "    </tr>\n",
              "    <tr>\n",
              "      <th>12</th>\n",
              "      <td>comprehend</td>\n",
              "      <td>comprehend</td>\n",
              "      <td>comprehend</td>\n",
              "      <td>comprehend</td>\n",
              "    </tr>\n",
              "    <tr>\n",
              "      <th>13</th>\n",
              "      <td>human</td>\n",
              "      <td>human</td>\n",
              "      <td>hum</td>\n",
              "      <td>human</td>\n",
              "    </tr>\n",
              "    <tr>\n",
              "      <th>14</th>\n",
              "      <td>language</td>\n",
              "      <td>languag</td>\n",
              "      <td>langu</td>\n",
              "      <td>language</td>\n",
              "    </tr>\n",
              "    <tr>\n",
              "      <th>15</th>\n",
              "      <td>organizations</td>\n",
              "      <td>organ</td>\n",
              "      <td>org</td>\n",
              "      <td>organization</td>\n",
              "    </tr>\n",
              "    <tr>\n",
              "      <th>16</th>\n",
              "      <td>today</td>\n",
              "      <td>today</td>\n",
              "      <td>today</td>\n",
              "      <td>today</td>\n",
              "    </tr>\n",
              "    <tr>\n",
              "      <th>17</th>\n",
              "      <td>large</td>\n",
              "      <td>larg</td>\n",
              "      <td>larg</td>\n",
              "      <td>large</td>\n",
              "    </tr>\n",
              "    <tr>\n",
              "      <th>18</th>\n",
              "      <td>volumes</td>\n",
              "      <td>volum</td>\n",
              "      <td>volum</td>\n",
              "      <td>volume</td>\n",
              "    </tr>\n",
              "    <tr>\n",
              "      <th>19</th>\n",
              "      <td>voice</td>\n",
              "      <td>voic</td>\n",
              "      <td>voic</td>\n",
              "      <td>voice</td>\n",
              "    </tr>\n",
              "    <tr>\n",
              "      <th>20</th>\n",
              "      <td>text</td>\n",
              "      <td>text</td>\n",
              "      <td>text</td>\n",
              "      <td>text</td>\n",
              "    </tr>\n",
              "    <tr>\n",
              "      <th>21</th>\n",
              "      <td>data</td>\n",
              "      <td>data</td>\n",
              "      <td>dat</td>\n",
              "      <td>data</td>\n",
              "    </tr>\n",
              "    <tr>\n",
              "      <th>22</th>\n",
              "      <td>various</td>\n",
              "      <td>variou</td>\n",
              "      <td>vary</td>\n",
              "      <td>various</td>\n",
              "    </tr>\n",
              "    <tr>\n",
              "      <th>23</th>\n",
              "      <td>communication</td>\n",
              "      <td>commun</td>\n",
              "      <td>commun</td>\n",
              "      <td>communication</td>\n",
              "    </tr>\n",
              "    <tr>\n",
              "      <th>24</th>\n",
              "      <td>channels</td>\n",
              "      <td>channel</td>\n",
              "      <td>channel</td>\n",
              "      <td>channel</td>\n",
              "    </tr>\n",
              "    <tr>\n",
              "      <th>25</th>\n",
              "      <td>like</td>\n",
              "      <td>like</td>\n",
              "      <td>lik</td>\n",
              "      <td>like</td>\n",
              "    </tr>\n",
              "    <tr>\n",
              "      <th>26</th>\n",
              "      <td>emails</td>\n",
              "      <td>email</td>\n",
              "      <td>email</td>\n",
              "      <td>email</td>\n",
              "    </tr>\n",
              "    <tr>\n",
              "      <th>27</th>\n",
              "      <td>text</td>\n",
              "      <td>text</td>\n",
              "      <td>text</td>\n",
              "      <td>text</td>\n",
              "    </tr>\n",
              "    <tr>\n",
              "      <th>28</th>\n",
              "      <td>messages</td>\n",
              "      <td>messag</td>\n",
              "      <td>mess</td>\n",
              "      <td>message</td>\n",
              "    </tr>\n",
              "    <tr>\n",
              "      <th>29</th>\n",
              "      <td>social</td>\n",
              "      <td>social</td>\n",
              "      <td>soc</td>\n",
              "      <td>social</td>\n",
              "    </tr>\n",
              "    <tr>\n",
              "      <th>30</th>\n",
              "      <td>media</td>\n",
              "      <td>media</td>\n",
              "      <td>med</td>\n",
              "      <td>medium</td>\n",
              "    </tr>\n",
              "    <tr>\n",
              "      <th>31</th>\n",
              "      <td>newsfeeds</td>\n",
              "      <td>newsfe</td>\n",
              "      <td>newsfee</td>\n",
              "      <td>newsfeeds</td>\n",
              "    </tr>\n",
              "    <tr>\n",
              "      <th>32</th>\n",
              "      <td>video</td>\n",
              "      <td>video</td>\n",
              "      <td>video</td>\n",
              "      <td>video</td>\n",
              "    </tr>\n",
              "    <tr>\n",
              "      <th>33</th>\n",
              "      <td>audio</td>\n",
              "      <td>audio</td>\n",
              "      <td>audio</td>\n",
              "      <td>audio</td>\n",
              "    </tr>\n",
              "    <tr>\n",
              "      <th>34</th>\n",
              "      <td>use</td>\n",
              "      <td>use</td>\n",
              "      <td>us</td>\n",
              "      <td>use</td>\n",
              "    </tr>\n",
              "    <tr>\n",
              "      <th>35</th>\n",
              "      <td>nlp</td>\n",
              "      <td>nlp</td>\n",
              "      <td>nlp</td>\n",
              "      <td>nlp</td>\n",
              "    </tr>\n",
              "    <tr>\n",
              "      <th>36</th>\n",
              "      <td>software</td>\n",
              "      <td>softwar</td>\n",
              "      <td>softw</td>\n",
              "      <td>software</td>\n",
              "    </tr>\n",
              "    <tr>\n",
              "      <th>37</th>\n",
              "      <td>automatically</td>\n",
              "      <td>automat</td>\n",
              "      <td>autom</td>\n",
              "      <td>automatically</td>\n",
              "    </tr>\n",
              "    <tr>\n",
              "      <th>38</th>\n",
              "      <td>process</td>\n",
              "      <td>process</td>\n",
              "      <td>process</td>\n",
              "      <td>process</td>\n",
              "    </tr>\n",
              "    <tr>\n",
              "      <th>39</th>\n",
              "      <td>data</td>\n",
              "      <td>data</td>\n",
              "      <td>dat</td>\n",
              "      <td>data</td>\n",
              "    </tr>\n",
              "    <tr>\n",
              "      <th>40</th>\n",
              "      <td>analyze</td>\n",
              "      <td>analyz</td>\n",
              "      <td>analys</td>\n",
              "      <td>analyze</td>\n",
              "    </tr>\n",
              "    <tr>\n",
              "      <th>41</th>\n",
              "      <td>intent</td>\n",
              "      <td>intent</td>\n",
              "      <td>int</td>\n",
              "      <td>intent</td>\n",
              "    </tr>\n",
              "    <tr>\n",
              "      <th>42</th>\n",
              "      <td>sentiment</td>\n",
              "      <td>sentiment</td>\n",
              "      <td>senty</td>\n",
              "      <td>sentiment</td>\n",
              "    </tr>\n",
              "    <tr>\n",
              "      <th>43</th>\n",
              "      <td>message</td>\n",
              "      <td>messag</td>\n",
              "      <td>mess</td>\n",
              "      <td>message</td>\n",
              "    </tr>\n",
              "    <tr>\n",
              "      <th>44</th>\n",
              "      <td>respond</td>\n",
              "      <td>respond</td>\n",
              "      <td>respond</td>\n",
              "      <td>respond</td>\n",
              "    </tr>\n",
              "    <tr>\n",
              "      <th>45</th>\n",
              "      <td>real</td>\n",
              "      <td>real</td>\n",
              "      <td>real</td>\n",
              "      <td>real</td>\n",
              "    </tr>\n",
              "    <tr>\n",
              "      <th>46</th>\n",
              "      <td>time</td>\n",
              "      <td>time</td>\n",
              "      <td>tim</td>\n",
              "      <td>time</td>\n",
              "    </tr>\n",
              "    <tr>\n",
              "      <th>47</th>\n",
              "      <td>human</td>\n",
              "      <td>human</td>\n",
              "      <td>hum</td>\n",
              "      <td>human</td>\n",
              "    </tr>\n",
              "    <tr>\n",
              "      <th>48</th>\n",
              "      <td>communication</td>\n",
              "      <td>commun</td>\n",
              "      <td>commun</td>\n",
              "      <td>communication</td>\n",
              "    </tr>\n",
              "  </tbody>\n",
              "</table>\n",
              "</div>\n",
              "    <div class=\"colab-df-buttons\">\n",
              "\n",
              "  <div class=\"colab-df-container\">\n",
              "    <button class=\"colab-df-convert\" onclick=\"convertToInteractive('df-922e466f-f7ae-4e61-a886-1c2337a1d679')\"\n",
              "            title=\"Convert this dataframe to an interactive table.\"\n",
              "            style=\"display:none;\">\n",
              "\n",
              "  <svg xmlns=\"http://www.w3.org/2000/svg\" height=\"24px\" viewBox=\"0 -960 960 960\">\n",
              "    <path d=\"M120-120v-720h720v720H120Zm60-500h600v-160H180v160Zm220 220h160v-160H400v160Zm0 220h160v-160H400v160ZM180-400h160v-160H180v160Zm440 0h160v-160H620v160ZM180-180h160v-160H180v160Zm440 0h160v-160H620v160Z\"/>\n",
              "  </svg>\n",
              "    </button>\n",
              "\n",
              "  <style>\n",
              "    .colab-df-container {\n",
              "      display:flex;\n",
              "      gap: 12px;\n",
              "    }\n",
              "\n",
              "    .colab-df-convert {\n",
              "      background-color: #E8F0FE;\n",
              "      border: none;\n",
              "      border-radius: 50%;\n",
              "      cursor: pointer;\n",
              "      display: none;\n",
              "      fill: #1967D2;\n",
              "      height: 32px;\n",
              "      padding: 0 0 0 0;\n",
              "      width: 32px;\n",
              "    }\n",
              "\n",
              "    .colab-df-convert:hover {\n",
              "      background-color: #E2EBFA;\n",
              "      box-shadow: 0px 1px 2px rgba(60, 64, 67, 0.3), 0px 1px 3px 1px rgba(60, 64, 67, 0.15);\n",
              "      fill: #174EA6;\n",
              "    }\n",
              "\n",
              "    .colab-df-buttons div {\n",
              "      margin-bottom: 4px;\n",
              "    }\n",
              "\n",
              "    [theme=dark] .colab-df-convert {\n",
              "      background-color: #3B4455;\n",
              "      fill: #D2E3FC;\n",
              "    }\n",
              "\n",
              "    [theme=dark] .colab-df-convert:hover {\n",
              "      background-color: #434B5C;\n",
              "      box-shadow: 0px 1px 3px 1px rgba(0, 0, 0, 0.15);\n",
              "      filter: drop-shadow(0px 1px 2px rgba(0, 0, 0, 0.3));\n",
              "      fill: #FFFFFF;\n",
              "    }\n",
              "  </style>\n",
              "\n",
              "    <script>\n",
              "      const buttonEl =\n",
              "        document.querySelector('#df-922e466f-f7ae-4e61-a886-1c2337a1d679 button.colab-df-convert');\n",
              "      buttonEl.style.display =\n",
              "        google.colab.kernel.accessAllowed ? 'block' : 'none';\n",
              "\n",
              "      async function convertToInteractive(key) {\n",
              "        const element = document.querySelector('#df-922e466f-f7ae-4e61-a886-1c2337a1d679');\n",
              "        const dataTable =\n",
              "          await google.colab.kernel.invokeFunction('convertToInteractive',\n",
              "                                                    [key], {});\n",
              "        if (!dataTable) return;\n",
              "\n",
              "        const docLinkHtml = 'Like what you see? Visit the ' +\n",
              "          '<a target=\"_blank\" href=https://colab.research.google.com/notebooks/data_table.ipynb>data table notebook</a>'\n",
              "          + ' to learn more about interactive tables.';\n",
              "        element.innerHTML = '';\n",
              "        dataTable['output_type'] = 'display_data';\n",
              "        await google.colab.output.renderOutput(dataTable, element);\n",
              "        const docLink = document.createElement('div');\n",
              "        docLink.innerHTML = docLinkHtml;\n",
              "        element.appendChild(docLink);\n",
              "      }\n",
              "    </script>\n",
              "  </div>\n",
              "\n",
              "\n",
              "<div id=\"df-0ef93551-a897-45f2-96f3-38872cffa057\">\n",
              "  <button class=\"colab-df-quickchart\" onclick=\"quickchart('df-0ef93551-a897-45f2-96f3-38872cffa057')\"\n",
              "            title=\"Suggest charts\"\n",
              "            style=\"display:none;\">\n",
              "\n",
              "<svg xmlns=\"http://www.w3.org/2000/svg\" height=\"24px\"viewBox=\"0 0 24 24\"\n",
              "     width=\"24px\">\n",
              "    <g>\n",
              "        <path d=\"M19 3H5c-1.1 0-2 .9-2 2v14c0 1.1.9 2 2 2h14c1.1 0 2-.9 2-2V5c0-1.1-.9-2-2-2zM9 17H7v-7h2v7zm4 0h-2V7h2v10zm4 0h-2v-4h2v4z\"/>\n",
              "    </g>\n",
              "</svg>\n",
              "  </button>\n",
              "\n",
              "<style>\n",
              "  .colab-df-quickchart {\n",
              "      --bg-color: #E8F0FE;\n",
              "      --fill-color: #1967D2;\n",
              "      --hover-bg-color: #E2EBFA;\n",
              "      --hover-fill-color: #174EA6;\n",
              "      --disabled-fill-color: #AAA;\n",
              "      --disabled-bg-color: #DDD;\n",
              "  }\n",
              "\n",
              "  [theme=dark] .colab-df-quickchart {\n",
              "      --bg-color: #3B4455;\n",
              "      --fill-color: #D2E3FC;\n",
              "      --hover-bg-color: #434B5C;\n",
              "      --hover-fill-color: #FFFFFF;\n",
              "      --disabled-bg-color: #3B4455;\n",
              "      --disabled-fill-color: #666;\n",
              "  }\n",
              "\n",
              "  .colab-df-quickchart {\n",
              "    background-color: var(--bg-color);\n",
              "    border: none;\n",
              "    border-radius: 50%;\n",
              "    cursor: pointer;\n",
              "    display: none;\n",
              "    fill: var(--fill-color);\n",
              "    height: 32px;\n",
              "    padding: 0;\n",
              "    width: 32px;\n",
              "  }\n",
              "\n",
              "  .colab-df-quickchart:hover {\n",
              "    background-color: var(--hover-bg-color);\n",
              "    box-shadow: 0 1px 2px rgba(60, 64, 67, 0.3), 0 1px 3px 1px rgba(60, 64, 67, 0.15);\n",
              "    fill: var(--button-hover-fill-color);\n",
              "  }\n",
              "\n",
              "  .colab-df-quickchart-complete:disabled,\n",
              "  .colab-df-quickchart-complete:disabled:hover {\n",
              "    background-color: var(--disabled-bg-color);\n",
              "    fill: var(--disabled-fill-color);\n",
              "    box-shadow: none;\n",
              "  }\n",
              "\n",
              "  .colab-df-spinner {\n",
              "    border: 2px solid var(--fill-color);\n",
              "    border-color: transparent;\n",
              "    border-bottom-color: var(--fill-color);\n",
              "    animation:\n",
              "      spin 1s steps(1) infinite;\n",
              "  }\n",
              "\n",
              "  @keyframes spin {\n",
              "    0% {\n",
              "      border-color: transparent;\n",
              "      border-bottom-color: var(--fill-color);\n",
              "      border-left-color: var(--fill-color);\n",
              "    }\n",
              "    20% {\n",
              "      border-color: transparent;\n",
              "      border-left-color: var(--fill-color);\n",
              "      border-top-color: var(--fill-color);\n",
              "    }\n",
              "    30% {\n",
              "      border-color: transparent;\n",
              "      border-left-color: var(--fill-color);\n",
              "      border-top-color: var(--fill-color);\n",
              "      border-right-color: var(--fill-color);\n",
              "    }\n",
              "    40% {\n",
              "      border-color: transparent;\n",
              "      border-right-color: var(--fill-color);\n",
              "      border-top-color: var(--fill-color);\n",
              "    }\n",
              "    60% {\n",
              "      border-color: transparent;\n",
              "      border-right-color: var(--fill-color);\n",
              "    }\n",
              "    80% {\n",
              "      border-color: transparent;\n",
              "      border-right-color: var(--fill-color);\n",
              "      border-bottom-color: var(--fill-color);\n",
              "    }\n",
              "    90% {\n",
              "      border-color: transparent;\n",
              "      border-bottom-color: var(--fill-color);\n",
              "    }\n",
              "  }\n",
              "</style>\n",
              "\n",
              "  <script>\n",
              "    async function quickchart(key) {\n",
              "      const quickchartButtonEl =\n",
              "        document.querySelector('#' + key + ' button');\n",
              "      quickchartButtonEl.disabled = true;  // To prevent multiple clicks.\n",
              "      quickchartButtonEl.classList.add('colab-df-spinner');\n",
              "      try {\n",
              "        const charts = await google.colab.kernel.invokeFunction(\n",
              "            'suggestCharts', [key], {});\n",
              "      } catch (error) {\n",
              "        console.error('Error during call to suggestCharts:', error);\n",
              "      }\n",
              "      quickchartButtonEl.classList.remove('colab-df-spinner');\n",
              "      quickchartButtonEl.classList.add('colab-df-quickchart-complete');\n",
              "    }\n",
              "    (() => {\n",
              "      let quickchartButtonEl =\n",
              "        document.querySelector('#df-0ef93551-a897-45f2-96f3-38872cffa057 button');\n",
              "      quickchartButtonEl.style.display =\n",
              "        google.colab.kernel.accessAllowed ? 'block' : 'none';\n",
              "    })();\n",
              "  </script>\n",
              "</div>\n",
              "\n",
              "  <div id=\"id_83a8d996-bdaf-4e12-834d-1120c233f118\">\n",
              "    <style>\n",
              "      .colab-df-generate {\n",
              "        background-color: #E8F0FE;\n",
              "        border: none;\n",
              "        border-radius: 50%;\n",
              "        cursor: pointer;\n",
              "        display: none;\n",
              "        fill: #1967D2;\n",
              "        height: 32px;\n",
              "        padding: 0 0 0 0;\n",
              "        width: 32px;\n",
              "      }\n",
              "\n",
              "      .colab-df-generate:hover {\n",
              "        background-color: #E2EBFA;\n",
              "        box-shadow: 0px 1px 2px rgba(60, 64, 67, 0.3), 0px 1px 3px 1px rgba(60, 64, 67, 0.15);\n",
              "        fill: #174EA6;\n",
              "      }\n",
              "\n",
              "      [theme=dark] .colab-df-generate {\n",
              "        background-color: #3B4455;\n",
              "        fill: #D2E3FC;\n",
              "      }\n",
              "\n",
              "      [theme=dark] .colab-df-generate:hover {\n",
              "        background-color: #434B5C;\n",
              "        box-shadow: 0px 1px 3px 1px rgba(0, 0, 0, 0.15);\n",
              "        filter: drop-shadow(0px 1px 2px rgba(0, 0, 0, 0.3));\n",
              "        fill: #FFFFFF;\n",
              "      }\n",
              "    </style>\n",
              "    <button class=\"colab-df-generate\" onclick=\"generateWithVariable('df')\"\n",
              "            title=\"Generate code using this dataframe.\"\n",
              "            style=\"display:none;\">\n",
              "\n",
              "  <svg xmlns=\"http://www.w3.org/2000/svg\" height=\"24px\"viewBox=\"0 0 24 24\"\n",
              "       width=\"24px\">\n",
              "    <path d=\"M7,19H8.4L18.45,9,17,7.55,7,17.6ZM5,21V16.75L18.45,3.32a2,2,0,0,1,2.83,0l1.4,1.43a1.91,1.91,0,0,1,.58,1.4,1.91,1.91,0,0,1-.58,1.4L9.25,21ZM18.45,9,17,7.55Zm-12,3A5.31,5.31,0,0,0,4.9,8.1,5.31,5.31,0,0,0,1,6.5,5.31,5.31,0,0,0,4.9,4.9,5.31,5.31,0,0,0,6.5,1,5.31,5.31,0,0,0,8.1,4.9,5.31,5.31,0,0,0,12,6.5,5.46,5.46,0,0,0,6.5,12Z\"/>\n",
              "  </svg>\n",
              "    </button>\n",
              "    <script>\n",
              "      (() => {\n",
              "      const buttonEl =\n",
              "        document.querySelector('#id_83a8d996-bdaf-4e12-834d-1120c233f118 button.colab-df-generate');\n",
              "      buttonEl.style.display =\n",
              "        google.colab.kernel.accessAllowed ? 'block' : 'none';\n",
              "\n",
              "      buttonEl.onclick = () => {\n",
              "        google.colab.notebook.generateWithVariable('df');\n",
              "      }\n",
              "      })();\n",
              "    </script>\n",
              "  </div>\n",
              "\n",
              "    </div>\n",
              "  </div>\n"
            ],
            "text/plain": [
              "         Original PorterStemmer LancasterStemmer     Lemmatizer\n",
              "0         natural         natur              nat        natural\n",
              "1        language       languag            langu       language\n",
              "2      processing       process          process     processing\n",
              "3             nlp           nlp              nlp            nlp\n",
              "4         machine        machin           machin        machine\n",
              "5        learning         learn            learn       learning\n",
              "6      technology     technolog        technolog     technology\n",
              "7           gives          give              giv           give\n",
              "8       computers        comput           comput       computer\n",
              "9         ability          abil              abl        ability\n",
              "10      interpret     interpret        interpret      interpret\n",
              "11     manipulate       manipul            manip     manipulate\n",
              "12     comprehend    comprehend       comprehend     comprehend\n",
              "13          human         human              hum          human\n",
              "14       language       languag            langu       language\n",
              "15  organizations         organ              org   organization\n",
              "16          today         today            today          today\n",
              "17          large          larg             larg          large\n",
              "18        volumes         volum            volum         volume\n",
              "19          voice          voic             voic          voice\n",
              "20           text          text             text           text\n",
              "21           data          data              dat           data\n",
              "22        various        variou             vary        various\n",
              "23  communication        commun           commun  communication\n",
              "24       channels       channel          channel        channel\n",
              "25           like          like              lik           like\n",
              "26         emails         email            email          email\n",
              "27           text          text             text           text\n",
              "28       messages        messag             mess        message\n",
              "29         social        social              soc         social\n",
              "30          media         media              med         medium\n",
              "31      newsfeeds        newsfe          newsfee      newsfeeds\n",
              "32          video         video            video          video\n",
              "33          audio         audio            audio          audio\n",
              "34            use           use               us            use\n",
              "35            nlp           nlp              nlp            nlp\n",
              "36       software       softwar            softw       software\n",
              "37  automatically       automat            autom  automatically\n",
              "38        process       process          process        process\n",
              "39           data          data              dat           data\n",
              "40        analyze        analyz           analys        analyze\n",
              "41         intent        intent              int         intent\n",
              "42      sentiment     sentiment            senty      sentiment\n",
              "43        message        messag             mess        message\n",
              "44        respond       respond          respond        respond\n",
              "45           real          real             real           real\n",
              "46           time          time              tim           time\n",
              "47          human         human              hum          human\n",
              "48  communication        commun           commun  communication"
            ]
          },
          "execution_count": 26,
          "metadata": {},
          "output_type": "execute_result"
        }
      ],
      "source": [
        "df = pd.DataFrame({\n",
        "    'Original': filtered_words,\n",
        "    'PorterStemmer': porter_stems,\n",
        "    'LancasterStemmer': lancaster_stems,\n",
        "    'Lemmatizer': lemmas\n",
        "})\n",
        "df"
      ]
    },
    {
      "cell_type": "code",
      "execution_count": 27,
      "metadata": {
        "id": "BmHK6EJpcBWR"
      },
      "outputs": [],
      "source": [
        "import re"
      ]
    },
    {
      "cell_type": "code",
      "execution_count": 28,
      "metadata": {
        "colab": {
          "base_uri": "https://localhost:8080/"
        },
        "id": "2BggedhlixgL",
        "outputId": "9f510071-aaad-4120-d5d0-678f8df94b51"
      },
      "outputs": [
        {
          "name": "stdout",
          "output_type": "stream",
          "text": [
            "['Natural', 'language', 'processing', 'machine', 'learning', 'technology', 'gives', 'computers', 'ability', 'interpret', 'manipulate', 'comprehend', 'human', 'language', 'Organizations', 'today', 'large', 'volumes', 'voice', 'various', 'communication', 'channels', 'emails', 'messages', 'social', 'media', 'newsfeeds', 'video', 'audio', 'software', 'automatically', 'process', 'analyze', 'intent', 'sentiment', 'message', 'respond', 'human', 'communication']\n"
          ]
        }
      ],
      "source": [
        "text = paragraph\n",
        "words_more_than_5 = re.findall(r'\\b\\w{5,}\\b', text)\n",
        "print(words_more_than_5)"
      ]
    },
    {
      "cell_type": "code",
      "execution_count": 29,
      "metadata": {
        "colab": {
          "base_uri": "https://localhost:8080/"
        },
        "id": "xfkiu2HFjASv",
        "outputId": "48e310e2-e321-4dc3-fa7d-e5926624a6af"
      },
      "outputs": [
        {
          "name": "stdout",
          "output_type": "stream",
          "text": [
            "[]\n"
          ]
        }
      ],
      "source": [
        "numbers = re.findall(r'\\d+', text)\n",
        "print(numbers)"
      ]
    },
    {
      "cell_type": "code",
      "execution_count": 30,
      "metadata": {
        "colab": {
          "base_uri": "https://localhost:8080/"
        },
        "id": "rW8wlL2ejH34",
        "outputId": "9c5a01fc-02a5-429c-db36-646f27c54280"
      },
      "outputs": [
        {
          "name": "stdout",
          "output_type": "stream",
          "text": [
            "['Natural', 'Organizations', 'They']\n"
          ]
        }
      ],
      "source": [
        "captialiazed_words = re.findall(r'\\b[A-Z][a-z]*\\b', text)\n",
        "print(captialiazed_words)"
      ]
    },
    {
      "cell_type": "code",
      "execution_count": 31,
      "metadata": {
        "colab": {
          "base_uri": "https://localhost:8080/"
        },
        "id": "9phxBjwGjT0a",
        "outputId": "074d4a71-ffe4-4b2d-aca7-e76df009f26b"
      },
      "outputs": [
        {
          "name": "stdout",
          "output_type": "stream",
          "text": [
            "['Natural', 'language', 'processing', 'NLP', 'is', 'a', 'machine', 'learning', 'technology', 'that', 'gives', 'computers', 'the', 'ability', 'to', 'interpret', 'manipulate', 'and', 'comprehend', 'human', 'language', 'Organizations', 'today', 'have', 'large', 'volumes', 'of', 'voice', 'and', 'text', 'data', 'from', 'various', 'communication', 'channels', 'like', 'emails', 'text', 'messages', 'social', 'media', 'newsfeeds', 'video', 'audio', 'and', 'more', 'They', 'use', 'NLP', 'software', 'to', 'automatically', 'process', 'this', 'data', 'analyze', 'the', 'intent', 'or', 'sentiment', 'in', 'the', 'message', 'and', 'respond', 'in', 'real', 'time', 'to', 'human', 'communication']\n"
          ]
        }
      ],
      "source": [
        "alphabets_to_words = re.findall(r'\\b[a-zA-Z]+\\b', text)\n",
        "print(alphabets_to_words)"
      ]
    },
    {
      "cell_type": "code",
      "execution_count": 33,
      "metadata": {
        "colab": {
          "base_uri": "https://localhost:8080/"
        },
        "id": "c_AbJoHtjfJC",
        "outputId": "495b7a87-8e17-4b54-ebab-d2dacaeed742"
      },
      "outputs": [
        {
          "name": "stdout",
          "output_type": "stream",
          "text": [
            "['is', 'a', 'ability', 'interpret', 'and', 'Organizations', 'of', 'and', 'emails', 'audio', 'and', 'use', 'automatically', 'analyze', 'intent', 'or', 'in', 'and', 'in']\n"
          ]
        }
      ],
      "source": [
        "words_starting_vowel = re.findall(r'\\b[aeiouAEIOU]\\w*\\b', text)\n",
        "print(words_starting_vowel)"
      ]
    },
    {
      "cell_type": "code",
      "execution_count": 35,
      "metadata": {
        "colab": {
          "base_uri": "https://localhost:8080/"
        },
        "id": "3V8kUJ3ljqhZ",
        "outputId": "b5bb5efb-f7b6-4bc5-ff01-be35d8427b3f"
      },
      "outputs": [
        {
          "name": "stdout",
          "output_type": "stream",
          "text": [
            "['Natural', 'language', 'processing', 'NLP', 'is', 'a', 'machine', 'learning', 'technology', 'that', 'gives', 'computers', 'the', 'ability', 'to', 'interpret', 'manipulate', 'and', 'comprehend', 'human', 'language', 'Organizations', 'today', 'have', 'large', 'volumes', 'of', 'voice', 'and', 'text', 'data', 'from', 'various', 'communication', 'channels', 'like', 'emails', 'text', 'messages', 'social', 'media', 'newsfeeds', 'video', 'audio', 'and', 'more', 'They', 'use', 'NLP', 'software', 'to', 'automatically', 'process', 'this', 'data', 'analyze', 'the', 'intent', 'or', 'sentiment', 'in', 'the', 'message', 'and', 'respond', 'in', 'real', 'time', 'to', 'human', 'communication']\n"
          ]
        }
      ],
      "source": [
        "def custom_tokenizer(text):\n",
        "    pattern = r\"\\b\\w+(?:-\\w+)*\\b|\\d+\\.\\d+|\\w+'\\w+\"\n",
        "    return re.findall(pattern, text)\n",
        "\n",
        "print(custom_tokenizer(paragraph))"
      ]
    },
    {
      "cell_type": "code",
      "execution_count": 37,
      "metadata": {
        "colab": {
          "base_uri": "https://localhost:8080/"
        },
        "id": "kGJ0TVgKkZu4",
        "outputId": "287af2dd-8ce2-4d9e-e52e-dd281dc717db"
      },
      "outputs": [
        {
          "name": "stdout",
          "output_type": "stream",
          "text": [
            "[]\n",
            "[]\n",
            "[]\n"
          ]
        }
      ],
      "source": [
        "print(re.findall(r'\\S+@\\S+', paragraph))  # Emails\n",
        "print(re.findall(r'(\\+91\\s?)?\\d{10}', paragraph))  # Phone numbers\n",
        "print(re.findall(r'http[s]?://(?:[a-zA-Z]|[0-9]|[$-_@.&+]|[!*\\(\\),]|(?:%[0-9a-fA-F][0-9a-fA-F]))+', paragraph)) # url"
      ]
    },
    {
      "cell_type": "code",
      "execution_count": null,
      "metadata": {
        "id": "x3dH0g0bk-Es"
      },
      "outputs": [],
      "source": []
    }
  ],
  "metadata": {
    "colab": {
      "provenance": []
    },
    "kernelspec": {
      "display_name": "Python 3",
      "name": "python3"
    },
    "language_info": {
      "codemirror_mode": {
        "name": "ipython",
        "version": 3
      },
      "file_extension": ".py",
      "mimetype": "text/x-python",
      "name": "python",
      "nbconvert_exporter": "python",
      "pygments_lexer": "ipython3",
      "version": "3.13.1"
    }
  },
  "nbformat": 4,
  "nbformat_minor": 0
}
